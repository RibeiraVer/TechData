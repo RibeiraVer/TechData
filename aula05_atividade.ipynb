{
 "cells": [
  {
   "cell_type": "markdown",
   "metadata": {},
   "source": [
    "Atividade 1:\n",
    "\n",
    "Crie um array unidimencional com os numeros de 1 a 12. Transforme este array em uma matriz de 3 linhas e 4 colunas.\n",
    "\n",
    "(DESAFIO: Aplique a transposição da matriz para criar as dimensões em 4x3 (.transpose) e, em seguida, crie um array unidimensional (.flatton))."
   ]
  },
  {
   "cell_type": "code",
   "execution_count": 1,
   "metadata": {},
   "outputs": [
    {
     "name": "stdout",
     "output_type": "stream",
     "text": [
      "Array Unidimensional:\n",
      "[ 1  2  3  4  5  6  7  8  9 10 11 12]\n"
     ]
    }
   ],
   "source": [
    "import numpy as np\n",
    "\n",
    "# Array unidimensional\n",
    "array_1d = np.arange(1, 13)\n",
    "print(\"Array Unidimensional:\")\n",
    "print(array_1d)\n",
    "\n"
   ]
  },
  {
   "cell_type": "code",
   "execution_count": 2,
   "metadata": {},
   "outputs": [
    {
     "name": "stdout",
     "output_type": "stream",
     "text": [
      "\n",
      "Matriz 3x4:\n",
      "[[ 1  2  3  4]\n",
      " [ 5  6  7  8]\n",
      " [ 9 10 11 12]]\n"
     ]
    }
   ],
   "source": [
    "# Matriz de 3x4\n",
    "matriz_3x4 = array_1d.reshape(3, 4)\n",
    "print(\"\\nMatriz 3x4:\")\n",
    "print(matriz_3x4)\n"
   ]
  },
  {
   "cell_type": "code",
   "execution_count": 3,
   "metadata": {},
   "outputs": [
    {
     "name": "stdout",
     "output_type": "stream",
     "text": [
      "\n",
      "Matriz Transposta 4x3:\n",
      "[[ 1  5  9]\n",
      " [ 2  6 10]\n",
      " [ 3  7 11]\n",
      " [ 4  8 12]]\n"
     ]
    }
   ],
   "source": [
    "# Transposição da matriz\n",
    "matriz_4x3 = matriz_3x4.T\n",
    "print(\"\\nMatriz Transposta 4x3:\")\n",
    "print(matriz_4x3)\n"
   ]
  },
  {
   "cell_type": "code",
   "execution_count": 4,
   "metadata": {},
   "outputs": [
    {
     "name": "stdout",
     "output_type": "stream",
     "text": [
      "\n",
      "Array Unidimensional a partir da Matriz Transposta:\n",
      "[ 1  5  9  2  6 10  3  7 11  4  8 12]\n"
     ]
    }
   ],
   "source": [
    "# Array unidimensional a partir da matriz transposta\n",
    "array_flat = matriz_4x3.flatten()\n",
    "print(\"\\nArray Unidimensional a partir da Matriz Transposta:\")\n",
    "print(array_flat)\n"
   ]
  },
  {
   "cell_type": "markdown",
   "metadata": {},
   "source": [
    "ATIVIDADE 2:\n",
    "\n",
    "LEIA O ARQUIVO cLASSIDISCO.CSV TRABALHADO EM AULA ANTERIORES E APLIQUE O COMANDO .DESCRIBE() PARA GERAR UM INDISE ESTATISTICA PREVIS DE DADOS. NÃO ESQUEÇA DOS COMANDOS PARA VERIFICAR AS PRIMEIRAS E ULTIMAS LINHAS DO DATASET COMO APOIO NESSA ACTIVIDADE."
   ]
  }
 ],
 "metadata": {
  "kernelspec": {
   "display_name": "Python 3",
   "language": "python",
   "name": "python3"
  },
  "language_info": {
   "codemirror_mode": {
    "name": "ipython",
    "version": 3
   },
   "file_extension": ".py",
   "mimetype": "text/x-python",
   "name": "python",
   "nbconvert_exporter": "python",
   "pygments_lexer": "ipython3",
   "version": "3.11.4"
  },
  "orig_nbformat": 4
 },
 "nbformat": 4,
 "nbformat_minor": 2
}
