{
 "cells": [
  {
   "cell_type": "markdown",
   "metadata": {},
   "source": [
    "#MULTITHREADING - O QUE E? COMO VIVE? DO QUE SE ALIMENTA?"
   ]
  },
  {
   "cell_type": "code",
   "execution_count": 1,
   "metadata": {},
   "outputs": [
    {
     "name": "stdout",
     "output_type": "stream",
     "text": [
      "Tarefa 1 iniciada...\n",
      "Tarefa 2 iniciada...\n",
      "Tarefa 2 concluída!\n",
      "Tarefa 1 concluída!\n",
      "Todas as tarefas foram concluídas.\n"
     ]
    }
   ],
   "source": [
    "import threading\n",
    "import time\n",
    "\n",
    "# Função que simula um trabalho pesado (ex: processamento de dados)\n",
    "def tarefa_1():\n",
    "    print(\"Tarefa 1 iniciada...\")\n",
    "    time.sleep(2)  # Simula um delay de 2 segundos\n",
    "    print(\"Tarefa 1 concluída!\")\n",
    "\n",
    "# Função que simula outro trabalho pesado\n",
    "def tarefa_2():\n",
    "    print(\"Tarefa 2 iniciada...\")\n",
    "    time.sleep(1)  # Simula um delay de 1 segundo\n",
    "    print(\"Tarefa 2 concluída!\")\n",
    "\n",
    "# Criação das threads\n",
    "thread_1 = threading.Thread(target=tarefa_1)\n",
    "thread_2 = threading.Thread(target=tarefa_2)\n",
    "\n",
    "# Inicia as threads\n",
    "thread_1.start()\n",
    "thread_2.start()\n",
    "\n",
    "# Espera as threads terminarem antes de finalizar o programa\n",
    "thread_1.join()\n",
    "thread_2.join()\n",
    "\n",
    "print(\"Todas as tarefas foram concluídas.\")\n"
   ]
  }
 ],
 "metadata": {
  "kernelspec": {
   "display_name": "Python 3",
   "language": "python",
   "name": "python3"
  },
  "language_info": {
   "codemirror_mode": {
    "name": "ipython",
    "version": 3
   },
   "file_extension": ".py",
   "mimetype": "text/x-python",
   "name": "python",
   "nbconvert_exporter": "python",
   "pygments_lexer": "ipython3",
   "version": "3.11.4"
  },
  "orig_nbformat": 4
 },
 "nbformat": 4,
 "nbformat_minor": 2
}
