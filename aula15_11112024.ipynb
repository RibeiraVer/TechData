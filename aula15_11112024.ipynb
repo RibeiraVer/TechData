{
 "cells": [
  {
   "cell_type": "code",
   "execution_count": 4,
   "metadata": {},
   "outputs": [],
   "source": [
    "import pandas as pd\n",
    "import polars as pl\n",
    "import time\n",
    "import pyarrow \n",
    "import fastparquet \n"
   ]
  },
  {
   "cell_type": "code",
   "execution_count": 5,
   "metadata": {},
   "outputs": [
    {
     "data": {
      "text/html": [
       "<div><style>\n",
       ".dataframe > thead > tr,\n",
       ".dataframe > tbody > tr {\n",
       "  text-align: right;\n",
       "  white-space: pre-wrap;\n",
       "}\n",
       "</style>\n",
       "<small>shape: (5, 9)</small><table border=\"1\" class=\"dataframe\"><thead><tr><th>MÊS COMPETÊNCIA</th><th>MÊS REFERÊNCIA</th><th>UF</th><th>CÓDIGO MUNICÍPIO SIAFI</th><th>NOME MUNICÍPIO</th><th>CPF FAVORECIDO</th><th>NIS FAVORECIDO</th><th>NOME FAVORECIDO</th><th>VALOR PARCELA</th></tr><tr><td>i64</td><td>i64</td><td>str</td><td>i64</td><td>str</td><td>str</td><td>i64</td><td>str</td><td>str</td></tr></thead><tbody><tr><td>202401</td><td>202303</td><td>&quot;AC&quot;</td><td>139</td><td>&quot;RIO BRANCO&quot;</td><td>&quot;***.511.972-**&quot;</td><td>16291115205</td><td>&quot;JANAINA FERREIRA DA SILVA&quot;</td><td>&quot;800,00&quot;</td></tr><tr><td>202401</td><td>202303</td><td>&quot;BA&quot;</td><td>3329</td><td>&quot;ANGUERA&quot;</td><td>&quot;***.909.745-**&quot;</td><td>20474429886</td><td>&quot;TACIANE MARQUES DA SILVA&quot;</td><td>&quot;750,00&quot;</td></tr><tr><td>202401</td><td>202303</td><td>&quot;BA&quot;</td><td>3731</td><td>&quot;MONTE SANTO&quot;</td><td>&quot;***.872.338-**&quot;</td><td>20195376298</td><td>&quot;MAILSON DOS SANTOS SILVA&quot;</td><td>&quot;650,00&quot;</td></tr><tr><td>202401</td><td>202303</td><td>&quot;BA&quot;</td><td>3761</td><td>&quot;NOVA VICOSA&quot;</td><td>&quot;***.665.905-**&quot;</td><td>12723589082</td><td>&quot;IRENI RICARDO GERALDO&quot;</td><td>&quot;650,00&quot;</td></tr><tr><td>202401</td><td>202303</td><td>&quot;BA&quot;</td><td>3849</td><td>&quot;SALVADOR&quot;</td><td>&quot;***.932.435-**&quot;</td><td>20024584007</td><td>&quot;ELIENE GOMES DOS SANTOS&quot;</td><td>&quot;850,00&quot;</td></tr></tbody></table></div>"
      ],
      "text/plain": [
       "shape: (5, 9)\n",
       "┌────────────┬────────────┬─────┬────────────┬───┬────────────┬────────────┬───────────┬───────────┐\n",
       "│ MÊS COMPET ┆ MÊS        ┆ UF  ┆ CÓDIGO     ┆ … ┆ CPF        ┆ NIS        ┆ NOME FAVO ┆ VALOR     │\n",
       "│ ÊNCIA      ┆ REFERÊNCIA ┆ --- ┆ MUNICÍPIO  ┆   ┆ FAVORECIDO ┆ FAVORECIDO ┆ RECIDO    ┆ PARCELA   │\n",
       "│ ---        ┆ ---        ┆ str ┆ SIAFI      ┆   ┆ ---        ┆ ---        ┆ ---       ┆ ---       │\n",
       "│ i64        ┆ i64        ┆     ┆ ---        ┆   ┆ str        ┆ i64        ┆ str       ┆ str       │\n",
       "│            ┆            ┆     ┆ i64        ┆   ┆            ┆            ┆           ┆           │\n",
       "╞════════════╪════════════╪═════╪════════════╪═══╪════════════╪════════════╪═══════════╪═══════════╡\n",
       "│ 202401     ┆ 202303     ┆ AC  ┆ 139        ┆ … ┆ ***.511.97 ┆ 1629111520 ┆ JANAINA   ┆ 800,00    │\n",
       "│            ┆            ┆     ┆            ┆   ┆ 2-**       ┆ 5          ┆ FERREIRA  ┆           │\n",
       "│            ┆            ┆     ┆            ┆   ┆            ┆            ┆ DA SILVA  ┆           │\n",
       "│ 202401     ┆ 202303     ┆ BA  ┆ 3329       ┆ … ┆ ***.909.74 ┆ 2047442988 ┆ TACIANE   ┆ 750,00    │\n",
       "│            ┆            ┆     ┆            ┆   ┆ 5-**       ┆ 6          ┆ MARQUES   ┆           │\n",
       "│            ┆            ┆     ┆            ┆   ┆            ┆            ┆ DA SILVA  ┆           │\n",
       "│ 202401     ┆ 202303     ┆ BA  ┆ 3731       ┆ … ┆ ***.872.33 ┆ 2019537629 ┆ MAILSON   ┆ 650,00    │\n",
       "│            ┆            ┆     ┆            ┆   ┆ 8-**       ┆ 8          ┆ DOS       ┆           │\n",
       "│            ┆            ┆     ┆            ┆   ┆            ┆            ┆ SANTOS    ┆           │\n",
       "│            ┆            ┆     ┆            ┆   ┆            ┆            ┆ SILVA     ┆           │\n",
       "│ 202401     ┆ 202303     ┆ BA  ┆ 3761       ┆ … ┆ ***.665.90 ┆ 1272358908 ┆ IRENI     ┆ 650,00    │\n",
       "│            ┆            ┆     ┆            ┆   ┆ 5-**       ┆ 2          ┆ RICARDO   ┆           │\n",
       "│            ┆            ┆     ┆            ┆   ┆            ┆            ┆ GERALDO   ┆           │\n",
       "│ 202401     ┆ 202303     ┆ BA  ┆ 3849       ┆ … ┆ ***.932.43 ┆ 2002458400 ┆ ELIENE    ┆ 850,00    │\n",
       "│            ┆            ┆     ┆            ┆   ┆ 5-**       ┆ 7          ┆ GOMES DOS ┆           │\n",
       "│            ┆            ┆     ┆            ┆   ┆            ┆            ┆ SANTOS    ┆           │\n",
       "└────────────┴────────────┴─────┴────────────┴───┴────────────┴────────────┴───────────┴───────────┘"
      ]
     },
     "metadata": {},
     "output_type": "display_data"
    },
    {
     "name": "stdout",
     "output_type": "stream",
     "text": [
      "Tempo de execução com Polars: 0.04473519325256348 segundos\n"
     ]
    }
   ],
   "source": [
    "arquivo1=pl.read_csv(\"202401_NovoBolsaFamilia.csv\", separator=\";\", encoding=\"latin-1\") #caminhos dos arquivos\n",
    "arquivo2=pl.read_csv(\"202402_NovoBolsaFamilia.csv\", separator=\";\", encoding=\"latin-1\")\n",
    "\n",
    "inicio_tempo=time.time() #marcação do tempo de processamento\n",
    "df_polars=pl.concat([arquivo1,arquivo2])\n",
    "\n",
    "display(df_polars.head())\n",
    "\n",
    "print(\"Tempo de execução com Polars:\", time.time() - inicio_tempo, \"segundos\")"
   ]
  },
  {
   "cell_type": "code",
   "execution_count": 6,
   "metadata": {},
   "outputs": [],
   "source": [
    "df_polars.write_parquet('bimestre1.parquet')"
   ]
  },
  {
   "cell_type": "code",
   "execution_count": 7,
   "metadata": {},
   "outputs": [
    {
     "data": {
      "text/html": [
       "<div><style>\n",
       ".dataframe > thead > tr,\n",
       ".dataframe > tbody > tr {\n",
       "  text-align: right;\n",
       "  white-space: pre-wrap;\n",
       "}\n",
       "</style>\n",
       "<small>shape: (5, 9)</small><table border=\"1\" class=\"dataframe\"><thead><tr><th>MÊS COMPETÊNCIA</th><th>MÊS REFERÊNCIA</th><th>UF</th><th>CÓDIGO MUNICÍPIO SIAFI</th><th>NOME MUNICÍPIO</th><th>CPF FAVORECIDO</th><th>NIS FAVORECIDO</th><th>NOME FAVORECIDO</th><th>VALOR PARCELA</th></tr><tr><td>i64</td><td>i64</td><td>str</td><td>i64</td><td>str</td><td>str</td><td>i64</td><td>str</td><td>str</td></tr></thead><tbody><tr><td>202403</td><td>202303</td><td>&quot;PA&quot;</td><td>581</td><td>&quot;CURIONOPOLIS&quot;</td><td>&quot;***.427.552-**&quot;</td><td>16158471934</td><td>&quot;ANDRESSA SOUSA COSTA&quot;</td><td>&quot;325,00&quot;</td></tr><tr><td>202403</td><td>202303</td><td>&quot;PA&quot;</td><td>581</td><td>&quot;CURIONOPOLIS&quot;</td><td>&quot;***.268.842-**&quot;</td><td>21204955249</td><td>&quot;DIVINA NERES DA SILVA&quot;</td><td>&quot;350,00&quot;</td></tr><tr><td>202403</td><td>202304</td><td>&quot;AM&quot;</td><td>221</td><td>&quot;CARAUARI&quot;</td><td>&quot;***.462.652-**&quot;</td><td>20149917044</td><td>&quot;ELIAS GREGORIO SIMOES&quot;</td><td>&quot;600,00&quot;</td></tr><tr><td>202403</td><td>202304</td><td>&quot;BA&quot;</td><td>3449</td><td>&quot;CATU&quot;</td><td>&quot;***.335.635-**&quot;</td><td>16104664114</td><td>&quot;ADRIANA MIRANDA DE JESUS&quot;</td><td>&quot;800,00&quot;</td></tr><tr><td>202403</td><td>202304</td><td>&quot;BA&quot;</td><td>3449</td><td>&quot;CATU&quot;</td><td>&quot;***.288.245-**&quot;</td><td>12611273067</td><td>&quot;EDMILSON DE JESUS MENDES&quot;</td><td>&quot;600,00&quot;</td></tr></tbody></table></div>"
      ],
      "text/plain": [
       "shape: (5, 9)\n",
       "┌────────────┬────────────┬─────┬────────────┬───┬────────────┬────────────┬───────────┬───────────┐\n",
       "│ MÊS COMPET ┆ MÊS        ┆ UF  ┆ CÓDIGO     ┆ … ┆ CPF        ┆ NIS        ┆ NOME FAVO ┆ VALOR     │\n",
       "│ ÊNCIA      ┆ REFERÊNCIA ┆ --- ┆ MUNICÍPIO  ┆   ┆ FAVORECIDO ┆ FAVORECIDO ┆ RECIDO    ┆ PARCELA   │\n",
       "│ ---        ┆ ---        ┆ str ┆ SIAFI      ┆   ┆ ---        ┆ ---        ┆ ---       ┆ ---       │\n",
       "│ i64        ┆ i64        ┆     ┆ ---        ┆   ┆ str        ┆ i64        ┆ str       ┆ str       │\n",
       "│            ┆            ┆     ┆ i64        ┆   ┆            ┆            ┆           ┆           │\n",
       "╞════════════╪════════════╪═════╪════════════╪═══╪════════════╪════════════╪═══════════╪═══════════╡\n",
       "│ 202403     ┆ 202303     ┆ PA  ┆ 581        ┆ … ┆ ***.427.55 ┆ 1615847193 ┆ ANDRESSA  ┆ 325,00    │\n",
       "│            ┆            ┆     ┆            ┆   ┆ 2-**       ┆ 4          ┆ SOUSA     ┆           │\n",
       "│            ┆            ┆     ┆            ┆   ┆            ┆            ┆ COSTA     ┆           │\n",
       "│ 202403     ┆ 202303     ┆ PA  ┆ 581        ┆ … ┆ ***.268.84 ┆ 2120495524 ┆ DIVINA    ┆ 350,00    │\n",
       "│            ┆            ┆     ┆            ┆   ┆ 2-**       ┆ 9          ┆ NERES DA  ┆           │\n",
       "│            ┆            ┆     ┆            ┆   ┆            ┆            ┆ SILVA     ┆           │\n",
       "│ 202403     ┆ 202304     ┆ AM  ┆ 221        ┆ … ┆ ***.462.65 ┆ 2014991704 ┆ ELIAS     ┆ 600,00    │\n",
       "│            ┆            ┆     ┆            ┆   ┆ 2-**       ┆ 4          ┆ GREGORIO  ┆           │\n",
       "│            ┆            ┆     ┆            ┆   ┆            ┆            ┆ SIMOES    ┆           │\n",
       "│ 202403     ┆ 202304     ┆ BA  ┆ 3449       ┆ … ┆ ***.335.63 ┆ 1610466411 ┆ ADRIANA   ┆ 800,00    │\n",
       "│            ┆            ┆     ┆            ┆   ┆ 5-**       ┆ 4          ┆ MIRANDA   ┆           │\n",
       "│            ┆            ┆     ┆            ┆   ┆            ┆            ┆ DE JESUS  ┆           │\n",
       "│ 202403     ┆ 202304     ┆ BA  ┆ 3449       ┆ … ┆ ***.288.24 ┆ 1261127306 ┆ EDMILSON  ┆ 600,00    │\n",
       "│            ┆            ┆     ┆            ┆   ┆ 5-**       ┆ 7          ┆ DE JESUS  ┆           │\n",
       "│            ┆            ┆     ┆            ┆   ┆            ┆            ┆ MENDES    ┆           │\n",
       "└────────────┴────────────┴─────┴────────────┴───┴────────────┴────────────┴───────────┴───────────┘"
      ]
     },
     "metadata": {},
     "output_type": "display_data"
    },
    {
     "name": "stdout",
     "output_type": "stream",
     "text": [
      "Tempo de execução com Polars: 2.724853515625 segundos\n"
     ]
    }
   ],
   "source": [
    "arquivo1=pl.read_csv(\"202403_NovoBolsaFamilia.csv\", separator=\";\", encoding=\"latin-1\") #caminhos dos arquivos\n",
    "arquivo2=pl.read_csv(\"202404_NovoBolsaFamilia.csv\", separator=\";\", encoding=\"latin-1\")\n",
    "\n",
    "inicio_tempo=time.time() #marcação do tempo de processamento\n",
    "df_polars=pl.concat([arquivo1,arquivo2])\n",
    "\n",
    "display(df_polars.head())\n",
    "\n",
    "print(\"Tempo de execução com Polars:\", time.time() - inicio_tempo, \"segundos\")"
   ]
  },
  {
   "cell_type": "code",
   "execution_count": 8,
   "metadata": {},
   "outputs": [],
   "source": [
    "df_polars.write_parquet('bimestre2.parquet')"
   ]
  },
  {
   "cell_type": "code",
   "execution_count": 9,
   "metadata": {},
   "outputs": [
    {
     "data": {
      "text/html": [
       "<div><style>\n",
       ".dataframe > thead > tr,\n",
       ".dataframe > tbody > tr {\n",
       "  text-align: right;\n",
       "  white-space: pre-wrap;\n",
       "}\n",
       "</style>\n",
       "<small>shape: (5, 9)</small><table border=\"1\" class=\"dataframe\"><thead><tr><th>MÊS COMPETÊNCIA</th><th>MÊS REFERÊNCIA</th><th>UF</th><th>CÓDIGO MUNICÍPIO SIAFI</th><th>NOME MUNICÍPIO</th><th>CPF FAVORECIDO</th><th>NIS FAVORECIDO</th><th>NOME FAVORECIDO</th><th>VALOR PARCELA</th></tr><tr><td>i64</td><td>i64</td><td>str</td><td>i64</td><td>str</td><td>str</td><td>i64</td><td>str</td><td>str</td></tr></thead><tbody><tr><td>202405</td><td>202303</td><td>&quot;RJ&quot;</td><td>6001</td><td>&quot;RIO DE JANEIRO&quot;</td><td>&quot;&quot;</td><td>12789600971</td><td>&quot;DYANNA MARIA DA SILVA RABELO&quot;</td><td>&quot;750,00&quot;</td></tr><tr><td>202405</td><td>202304</td><td>&quot;RJ&quot;</td><td>6001</td><td>&quot;RIO DE JANEIRO&quot;</td><td>&quot;***.520.517-**&quot;</td><td>16662994112</td><td>&quot;RIVICA SOARES BARBOSA&quot;</td><td>&quot;750,00&quot;</td></tr><tr><td>202405</td><td>202305</td><td>&quot;BA&quot;</td><td>3597</td><td>&quot;ITABUNA&quot;</td><td>&quot;***.554.805-**&quot;</td><td>20740034450</td><td>&quot;ANDREA PEREIRA DOS SANTOS&quot;</td><td>&quot;350,00&quot;</td></tr><tr><td>202405</td><td>202305</td><td>&quot;BA&quot;</td><td>3597</td><td>&quot;ITABUNA&quot;</td><td>&quot;***.332.675-**&quot;</td><td>16014198572</td><td>&quot;DINALVA DA CRUZ&quot;</td><td>&quot;300,00&quot;</td></tr><tr><td>202405</td><td>202305</td><td>&quot;BA&quot;</td><td>3597</td><td>&quot;ITABUNA&quot;</td><td>&quot;&quot;</td><td>20724192861</td><td>&quot;REGIANE JESUS DO ESPIRITO SANT…</td><td>&quot;325,00&quot;</td></tr></tbody></table></div>"
      ],
      "text/plain": [
       "shape: (5, 9)\n",
       "┌────────────┬────────────┬─────┬────────────┬───┬────────────┬────────────┬───────────┬───────────┐\n",
       "│ MÊS COMPET ┆ MÊS        ┆ UF  ┆ CÓDIGO     ┆ … ┆ CPF        ┆ NIS        ┆ NOME FAVO ┆ VALOR     │\n",
       "│ ÊNCIA      ┆ REFERÊNCIA ┆ --- ┆ MUNICÍPIO  ┆   ┆ FAVORECIDO ┆ FAVORECIDO ┆ RECIDO    ┆ PARCELA   │\n",
       "│ ---        ┆ ---        ┆ str ┆ SIAFI      ┆   ┆ ---        ┆ ---        ┆ ---       ┆ ---       │\n",
       "│ i64        ┆ i64        ┆     ┆ ---        ┆   ┆ str        ┆ i64        ┆ str       ┆ str       │\n",
       "│            ┆            ┆     ┆ i64        ┆   ┆            ┆            ┆           ┆           │\n",
       "╞════════════╪════════════╪═════╪════════════╪═══╪════════════╪════════════╪═══════════╪═══════════╡\n",
       "│ 202405     ┆ 202303     ┆ RJ  ┆ 6001       ┆ … ┆            ┆ 1278960097 ┆ DYANNA    ┆ 750,00    │\n",
       "│            ┆            ┆     ┆            ┆   ┆            ┆ 1          ┆ MARIA DA  ┆           │\n",
       "│            ┆            ┆     ┆            ┆   ┆            ┆            ┆ SILVA     ┆           │\n",
       "│            ┆            ┆     ┆            ┆   ┆            ┆            ┆ RABELO    ┆           │\n",
       "│ 202405     ┆ 202304     ┆ RJ  ┆ 6001       ┆ … ┆ ***.520.51 ┆ 1666299411 ┆ RIVICA    ┆ 750,00    │\n",
       "│            ┆            ┆     ┆            ┆   ┆ 7-**       ┆ 2          ┆ SOARES    ┆           │\n",
       "│            ┆            ┆     ┆            ┆   ┆            ┆            ┆ BARBOSA   ┆           │\n",
       "│ 202405     ┆ 202305     ┆ BA  ┆ 3597       ┆ … ┆ ***.554.80 ┆ 2074003445 ┆ ANDREA    ┆ 350,00    │\n",
       "│            ┆            ┆     ┆            ┆   ┆ 5-**       ┆ 0          ┆ PEREIRA   ┆           │\n",
       "│            ┆            ┆     ┆            ┆   ┆            ┆            ┆ DOS       ┆           │\n",
       "│            ┆            ┆     ┆            ┆   ┆            ┆            ┆ SANTOS    ┆           │\n",
       "│ 202405     ┆ 202305     ┆ BA  ┆ 3597       ┆ … ┆ ***.332.67 ┆ 1601419857 ┆ DINALVA   ┆ 300,00    │\n",
       "│            ┆            ┆     ┆            ┆   ┆ 5-**       ┆ 2          ┆ DA CRUZ   ┆           │\n",
       "│ 202405     ┆ 202305     ┆ BA  ┆ 3597       ┆ … ┆            ┆ 2072419286 ┆ REGIANE   ┆ 325,00    │\n",
       "│            ┆            ┆     ┆            ┆   ┆            ┆ 1          ┆ JESUS DO  ┆           │\n",
       "│            ┆            ┆     ┆            ┆   ┆            ┆            ┆ ESPIRITO  ┆           │\n",
       "│            ┆            ┆     ┆            ┆   ┆            ┆            ┆ SANT…     ┆           │\n",
       "└────────────┴────────────┴─────┴────────────┴───┴────────────┴────────────┴───────────┴───────────┘"
      ]
     },
     "metadata": {},
     "output_type": "display_data"
    },
    {
     "name": "stdout",
     "output_type": "stream",
     "text": [
      "Tempo de execução com Polars: 2.279863119125366 segundos\n"
     ]
    }
   ],
   "source": [
    "arquivo1=pl.read_csv(\"202405_NovoBolsaFamilia.csv\", separator=\";\", encoding=\"latin-1\") #caminhos dos arquivos\n",
    "arquivo2=pl.read_csv(\"202406_NovoBolsaFamilia.csv\", separator=\";\", encoding=\"latin-1\")\n",
    "\n",
    "inicio_tempo=time.time() #marcação do tempo de processamento\n",
    "df_polars=pl.concat([arquivo1,arquivo2])\n",
    "\n",
    "display(df_polars.head())\n",
    "\n",
    "print(\"Tempo de execução com Polars:\", time.time() - inicio_tempo, \"segundos\")"
   ]
  },
  {
   "cell_type": "code",
   "execution_count": 10,
   "metadata": {},
   "outputs": [],
   "source": [
    "df_polars.write_parquet('bimestre3.parquet')"
   ]
  },
  {
   "cell_type": "markdown",
   "metadata": {},
   "source": [
    "por fim, concatenamos todos os bimestres que ja sofreram processo de compresão"
   ]
  },
  {
   "cell_type": "code",
   "execution_count": 11,
   "metadata": {},
   "outputs": [],
   "source": [
    "#arquivo final\n",
    "parquet1=pl.read_parquet('bimestre1.parquet')\n",
    "parquet2=pl.read_parquet('bimestre2.parquet')\n",
    "parquet3=pl.read_parquet('bimestre3.parquet')\n",
    "\n",
    "bolsa_familia=pl.concat([parquet1,parquet2,parquet3])\n",
    "\n",
    "bolsa_familia.write_parquet('bolsa_familia_final.parquet')"
   ]
  },
  {
   "cell_type": "markdown",
   "metadata": {},
   "source": [
    "**lazy evaluation:**\n",
    "\n",
    "otimiza o processo dos dados volumosos, adiando operaçoes ate o momento que realmente sao necessarios."
   ]
  },
  {
   "cell_type": "code",
   "execution_count": 12,
   "metadata": {},
   "outputs": [
    {
     "ename": "ColumnNotFoundError",
     "evalue": "unable to find column \"NOME MUNICIPIO\"; valid columns: [\"MÊS COMPETÊNCIA\", \"MÊS REFERÊNCIA\", \"UF\", \"CÓDIGO MUNICÍPIO SIAFI\", \"NOME MUNICÍPIO\", \"CPF FAVORECIDO\", \"NIS FAVORECIDO\", \"NOME FAVORECIDO\", \"VALOR PARCELA\"]\n\nResolved plan until failure:\n\n\t---> FAILED HERE RESOLVING 'filter' <---\nParquet SCAN [bolsa_familia_final.parquet]\nPROJECT */9 COLUMNS",
     "output_type": "error",
     "traceback": [
      "\u001b[1;31m---------------------------------------------------------------------------\u001b[0m",
      "\u001b[1;31mColumnNotFoundError\u001b[0m                       Traceback (most recent call last)",
      "Cell \u001b[1;32mIn[12], line 6\u001b[0m\n\u001b[0;32m      3\u001b[0m df_lazy\u001b[39m=\u001b[39mpl\u001b[39m.\u001b[39mscan_parquet(\u001b[39m'\u001b[39m\u001b[39mbolsa_familia_final.parquet\u001b[39m\u001b[39m'\u001b[39m)\n\u001b[0;32m      5\u001b[0m \u001b[39m#definindo as operaçoes que serao executadas apenas em momentos oportunos\u001b[39;00m\n\u001b[1;32m----> 6\u001b[0m resultado\u001b[39m=\u001b[39m(df_lazy\u001b[39m.\u001b[39;49mfilter(pl\u001b[39m.\u001b[39;49mcol(\u001b[39m\"\u001b[39;49m\u001b[39mNOME MUNICIPIO\u001b[39;49m\u001b[39m\"\u001b[39;49m)\u001b[39m==\u001b[39;49m\u001b[39m\"\u001b[39;49m\u001b[39mRIO DE JANEIRO\u001b[39;49m\u001b[39m\"\u001b[39;49m)\u001b[39m.\u001b[39;49mcollect())\n",
      "File \u001b[1;32m~\\AppData\\Roaming\\Python\\Python311\\site-packages\\polars\\lazyframe\\frame.py:2055\u001b[0m, in \u001b[0;36mLazyFrame.collect\u001b[1;34m(self, type_coercion, predicate_pushdown, projection_pushdown, simplify_expression, slice_pushdown, comm_subplan_elim, comm_subexpr_elim, cluster_with_columns, collapse_joins, no_optimization, streaming, engine, background, _eager, **_kwargs)\u001b[0m\n\u001b[0;32m   2053\u001b[0m \u001b[39m# Only for testing purposes\u001b[39;00m\n\u001b[0;32m   2054\u001b[0m callback \u001b[39m=\u001b[39m _kwargs\u001b[39m.\u001b[39mget(\u001b[39m\"\u001b[39m\u001b[39mpost_opt_callback\u001b[39m\u001b[39m\"\u001b[39m, callback)\n\u001b[1;32m-> 2055\u001b[0m \u001b[39mreturn\u001b[39;00m wrap_df(ldf\u001b[39m.\u001b[39;49mcollect(callback))\n",
      "\u001b[1;31mColumnNotFoundError\u001b[0m: unable to find column \"NOME MUNICIPIO\"; valid columns: [\"MÊS COMPETÊNCIA\", \"MÊS REFERÊNCIA\", \"UF\", \"CÓDIGO MUNICÍPIO SIAFI\", \"NOME MUNICÍPIO\", \"CPF FAVORECIDO\", \"NIS FAVORECIDO\", \"NOME FAVORECIDO\", \"VALOR PARCELA\"]\n\nResolved plan until failure:\n\n\t---> FAILED HERE RESOLVING 'filter' <---\nParquet SCAN [bolsa_familia_final.parquet]\nPROJECT */9 COLUMNS"
     ]
    }
   ],
   "source": [
    "import polars as pl\n",
    "#carregando o arquivo .parquet atraves de LAZY evaluation:\n",
    "df_lazy=pl.scan_parquet('bolsa_familia_final.parquet')\n",
    "\n",
    "#definindo as operaçoes que serao executadas apenas em momentos oportunos\n",
    "resultado=(df_lazy.filter(pl.col(\"NOME MUNICIPIO\")==\"RIO DE JANEIRO\").collect())"
   ]
  },
  {
   "cell_type": "code",
   "execution_count": 13,
   "metadata": {},
   "outputs": [
    {
     "ename": "NameError",
     "evalue": "name 'resultado' is not defined",
     "output_type": "error",
     "traceback": [
      "\u001b[1;31m---------------------------------------------------------------------------\u001b[0m",
      "\u001b[1;31mNameError\u001b[0m                                 Traceback (most recent call last)",
      "Cell \u001b[1;32mIn[13], line 1\u001b[0m\n\u001b[1;32m----> 1\u001b[0m display(resultado)\n",
      "\u001b[1;31mNameError\u001b[0m: name 'resultado' is not defined"
     ]
    }
   ],
   "source": [
    "display(resultado)"
   ]
  }
 ],
 "metadata": {
  "kernelspec": {
   "display_name": "Python 3",
   "language": "python",
   "name": "python3"
  },
  "language_info": {
   "codemirror_mode": {
    "name": "ipython",
    "version": 3
   },
   "file_extension": ".py",
   "mimetype": "text/x-python",
   "name": "python",
   "nbconvert_exporter": "python",
   "pygments_lexer": "ipython3",
   "version": "3.11.4"
  },
  "orig_nbformat": 4
 },
 "nbformat": 4,
 "nbformat_minor": 2
}
