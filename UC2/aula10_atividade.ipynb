{
 "cells": [
  {
   "cell_type": "markdown",
   "metadata": {},
   "source": [
    "ATIVIDADE: atualize o resumo estatistico da sua amostra random como:\n",
    "\n",
    "1 variancia\n",
    "2 desvio padrao\n",
    "3 coeficiencia de variaçao\n",
    "4 dispersão"
   ]
  },
  {
   "cell_type": "code",
   "execution_count": 12,
   "metadata": {},
   "outputs": [],
   "source": [
    "import pandas as pd\n",
    "import numpy as np\n",
    "import random"
   ]
  },
  {
   "cell_type": "code",
   "execution_count": 13,
   "metadata": {},
   "outputs": [
    {
     "name": "stdout",
     "output_type": "stream",
     "text": [
      "[6, 73, 12, 2, 60, 45, 65, 20, 61, 61, 70, 54, 93, 68, 36, 92, 68, 43, 11, 9, 74, 24, 21, 23, 94, 65, 12, 74, 34, 56, 92, 9, 78, 74, 16, 15, 15, 40, 23, 34, 50, 28, 58, 46, 58, 61, 28, 43, 33, 3]\n",
      "[ 6 73 12  2 60 45 65 20 61 61 70 54 93 68 36 92 68 43 11  9 74 24 21 23\n",
      " 94 65 12 74 34 56 92  9 78 74 16 15 15 40 23 34 50 28 58 46 58 61 28 43\n",
      " 33  3]\n"
     ]
    }
   ],
   "source": [
    "amostraA=[random.randint(1,99)for _ in range(50)]\n",
    "print(amostraA)\n",
    "dados=np.array(amostraA)\n",
    "print(dados)"
   ]
  },
  {
   "cell_type": "code",
   "execution_count": 16,
   "metadata": {},
   "outputs": [
    {
     "name": "stdout",
     "output_type": "stream",
     "text": [
      "44.6\n"
     ]
    }
   ],
   "source": [
    "media=np.mean(amostraA)\n",
    "print(media)"
   ]
  },
  {
   "cell_type": "code",
   "execution_count": 17,
   "metadata": {},
   "outputs": [
    {
     "ename": "NameError",
     "evalue": "name 'variancia' is not defined",
     "output_type": "error",
     "traceback": [
      "\u001b[1;31m---------------------------------------------------------------------------\u001b[0m",
      "\u001b[1;31mNameError\u001b[0m                                 Traceback (most recent call last)",
      "Cell \u001b[1;32mIn[17], line 1\u001b[0m\n\u001b[1;32m----> 1\u001b[0m desviopadao\u001b[39m=\u001b[39mvariancia\u001b[39m*\u001b[39m\u001b[39m*\u001b[39m\u001b[39m0.5\u001b[39m\n\u001b[0;32m      2\u001b[0m \u001b[39mprint\u001b[39m(desviopadao)\n",
      "\u001b[1;31mNameError\u001b[0m: name 'variancia' is not defined"
     ]
    }
   ],
   "source": [
    "desviopadao=variancia**0.5\n",
    "print(desviopadao)"
   ]
  },
  {
   "cell_type": "code",
   "execution_count": null,
   "metadata": {},
   "outputs": [],
   "source": [
    "coef_variacao=desviopadao/media\n",
    "print(coef_variacao)"
   ]
  },
  {
   "cell_type": "code",
   "execution_count": null,
   "metadata": {},
   "outputs": [],
   "source": [
    "distancia=variancia / (media**2)\n",
    "print(distancia*100,'%')"
   ]
  }
 ],
 "metadata": {
  "kernelspec": {
   "display_name": "Python 3",
   "language": "python",
   "name": "python3"
  },
  "language_info": {
   "codemirror_mode": {
    "name": "ipython",
    "version": 3
   },
   "file_extension": ".py",
   "mimetype": "text/x-python",
   "name": "python",
   "nbconvert_exporter": "python",
   "pygments_lexer": "ipython3",
   "version": "3.11.4"
  },
  "orig_nbformat": 4
 },
 "nbformat": 4,
 "nbformat_minor": 2
}
