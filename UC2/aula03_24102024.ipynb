{
 "cells": [
  {
   "cell_type": "markdown",
   "metadata": {},
   "source": [
    "** Diferença entre PANDAS e NUMPY:**"
   ]
  },
  {
   "cell_type": "markdown",
   "metadata": {},
   "source": [
    "PANDAS:\n",
    "\n",
    "1. Melhor forma de trabalhar com dados tabulares(dataframe).\n",
    "2. As ferramentas poderosas são os comandos DATAFRAME e SERIES.\n",
    "3. Consome mais mémoria.\n",
    "4. Possui melhor desempenho se o numero de linhas da matriz precisar ser maior que 500k.\n",
    "5. Oferece recursos para visualizar tabela 2D chamadas DATAFRAMES.\n"
   ]
  },
  {
   "cell_type": "markdown",
   "metadata": {},
   "source": [
    "NUMPY:\n",
    "\n",
    "1. Melhora forma de trabalhar com dados tabulares (series).\n",
    "2. A ferramenta poderosa é atraves dos comandos do ARRAYS.\n",
    "3. Mais eficiente em termos de memória.\n",
    "4. É mais eficiente quando o número de linhas do array é de 50k ou menos.\n",
    "5. Trabalha com MATRIZES MULTIDIMENCIONAIS.\n"
   ]
  },
  {
   "cell_type": "code",
   "execution_count": null,
   "metadata": {},
   "outputs": [],
   "source": [
    "#proxima aula\n",
    "#Pesquisa:\n",
    "#Comandos:\n",
    "\n",
    ".dtype\n",
    ".shape\n",
    ".Zeros\n",
    ".ones\n",
    ".empty\n",
    ".arange\n",
    ".random\n",
    ".split \n",
    ".reshape\n",
    ".concatemate\n",
    ".describe"
   ]
  }
 ],
 "metadata": {
  "kernelspec": {
   "display_name": "Python 3",
   "language": "python",
   "name": "python3"
  },
  "language_info": {
   "codemirror_mode": {
    "name": "ipython",
    "version": 3
   },
   "file_extension": ".py",
   "mimetype": "text/x-python",
   "name": "python",
   "nbconvert_exporter": "python",
   "pygments_lexer": "ipython3",
   "version": "3.11.4"
  },
  "orig_nbformat": 4
 },
 "nbformat": 4,
 "nbformat_minor": 2
}
