{
 "cells": [
  {
   "cell_type": "markdown",
   "metadata": {},
   "source": [
    "**Medidas de tendencias central com Numpy:**"
   ]
  },
  {
   "cell_type": "code",
   "execution_count": 2,
   "metadata": {},
   "outputs": [],
   "source": [
    "import numpy as np\n"
   ]
  },
  {
   "cell_type": "code",
   "execution_count": 6,
   "metadata": {},
   "outputs": [],
   "source": [
    "amostra=np.array([2500,3200,2700,3000,3400,3700,4500,4700,5000,5200,6000,7000])"
   ]
  },
  {
   "cell_type": "code",
   "execution_count": 7,
   "metadata": {},
   "outputs": [
    {
     "name": "stdout",
     "output_type": "stream",
     "text": [
      "média:4241.666666666667\n",
      "mediana:4100.0\n"
     ]
    }
   ],
   "source": [
    "média=np.mean(amostra)\n",
    "mediana=np.median(amostra)\n",
    "print(f'média:{média}')\n",
    "print(f'mediana:{mediana}')"
   ]
  },
  {
   "cell_type": "code",
   "execution_count": 8,
   "metadata": {},
   "outputs": [
    {
     "name": "stdout",
     "output_type": "stream",
     "text": [
      "distancia entre média e mediana: 3.46%\n"
     ]
    }
   ],
   "source": [
    "distancia=(média-mediana)/mediana*100\n",
    "print (f'distancia entre média e mediana: {distancia:.2f}%')"
   ]
  },
  {
   "cell_type": "markdown",
   "metadata": {},
   "source": [
    "COMO EU DEVO INTERPRETAR ISSO?\n",
    "\n",
    "Se:\n",
    "1. Distancia <= |10%|: a minha média é CONFIÁVEL;\n",
    "\n",
    "2. |10%| distância < |25%|: existe uma influencia MODERADA de valor extremos;\n",
    "\n",
    "3. Distancia >= |25%|: existe ALTA  influencia dos valores extremos."
   ]
  },
  {
   "cell_type": "markdown",
   "metadata": {},
   "source": [
    "ATIVIDADE ASSISTIDA: crie array com 50 numeros aleatorios e repitam a analises sobre a distancia cauculada anteriormente para a nova amostra.\n"
   ]
  },
  {
   "cell_type": "code",
   "execution_count": 34,
   "metadata": {},
   "outputs": [],
   "source": [
    "array_aleatorio = np.random.rand(50)"
   ]
  },
  {
   "cell_type": "code",
   "execution_count": 35,
   "metadata": {},
   "outputs": [
    {
     "name": "stdout",
     "output_type": "stream",
     "text": [
      "Array com 50 números aleatórios:\n",
      "[0.16396051 0.45035409 0.2498141  0.53449621 0.49185744 0.25899309\n",
      " 0.76652891 0.49025134 0.31190878 0.57328024 0.90474968 0.74802414\n",
      " 0.66420651 0.60899825 0.91500741 0.68352991 0.77451    0.93270126\n",
      " 0.68271444 0.297396   0.80915172 0.649602   0.56278081 0.29275433\n",
      " 0.08254169 0.572435   0.8909955  0.1441126  0.75820318 0.76795213\n",
      " 0.83866003 0.58470729 0.32650915 0.19450847 0.46232753 0.84444845\n",
      " 0.78580807 0.7669639  0.08928128 0.30786208 0.47703604 0.03160106\n",
      " 0.04277047 0.61954202 0.42377553 0.94101396 0.13219954 0.30391832\n",
      " 0.17260354 0.45909871]\n"
     ]
    }
   ],
   "source": [
    "print(\"Array com 50 números aleatórios:\")\n",
    "print(array_aleatorio)"
   ]
  },
  {
   "cell_type": "code",
   "execution_count": 36,
   "metadata": {},
   "outputs": [
    {
     "name": "stdout",
     "output_type": "stream",
     "text": [
      "média:0.5167689343917535\n",
      "mediana:0.5486385104131624\n"
     ]
    }
   ],
   "source": [
    "média=np.mean(array_aleatorio)\n",
    "mediana=np.median(array_aleatorio)\n",
    "print(f'média:{média}')\n",
    "print(f'mediana:{mediana}')"
   ]
  },
  {
   "cell_type": "code",
   "execution_count": 37,
   "metadata": {},
   "outputs": [
    {
     "name": "stdout",
     "output_type": "stream",
     "text": [
      "distancia entre média e mediana: -5.81%\n"
     ]
    }
   ],
   "source": [
    "distancia=(média-mediana)/mediana*100\n",
    "print (f'distancia entre média e mediana: {distancia:.2f}%')"
   ]
  },
  {
   "cell_type": "markdown",
   "metadata": {},
   "source": [
    "EXEMPLO 2"
   ]
  },
  {
   "cell_type": "code",
   "execution_count": 30,
   "metadata": {},
   "outputs": [],
   "source": [
    "amostra=np.array([2500,3200,2700,3000,3400,3700,4500,4700,5000,5200,6000,7560,2800,3120,2980,3980,3690,3140,4730,4910,5950,5390,6640,7290.2590,3940,2370,3520,3470,3380,4950,4510,5480,5260,6320,7270,\n",
    "                  2750,3420,2860,3150,3980,3650,4320,4240,5570,5680,6600,7570,2587,3299])"
   ]
  },
  {
   "cell_type": "code",
   "execution_count": 31,
   "metadata": {},
   "outputs": [
    {
     "name": "stdout",
     "output_type": "stream",
     "text": [
      "média:4412.780795918367\n",
      "mediana:3980.0\n"
     ]
    }
   ],
   "source": [
    "média=np.mean(amostra)\n",
    "mediana=np.median(amostra)\n",
    "print(f'média:{média}')\n",
    "print(f'mediana:{mediana}')"
   ]
  },
  {
   "cell_type": "code",
   "execution_count": 33,
   "metadata": {},
   "outputs": [
    {
     "name": "stdout",
     "output_type": "stream",
     "text": [
      "distancia entre média e mediana: 10.87%\n"
     ]
    }
   ],
   "source": [
    "distancia=(média-mediana)/mediana*100\n",
    "print (f'distancia entre média e mediana: {distancia:.2f}%')"
   ]
  },
  {
   "cell_type": "markdown",
   "metadata": {},
   "source": [
    "**outliers:**"
   ]
  },
  {
   "cell_type": "code",
   "execution_count": null,
   "metadata": {},
   "outputs": [],
   "source": [
    "#CAUCULOS PARA VERIFICAÇÃO DO INTERVALO INTERQUATIL (IQR) E SEU LIMITES:\n",
    "\n",
    "iqr=q3-q1\n",
    "limite_superior=q3+(1,5*iqr)\n",
    "limite_inferior=q1-(1.5*iqr)\n",
    "\n",
    "#resumo Estatistico:\n",
    "print(f'médias: {média}')\n",
    "print(f'mediana: {mediana}')\n"
   ]
  }
 ],
 "metadata": {
  "kernelspec": {
   "display_name": "Python 3",
   "language": "python",
   "name": "python3"
  },
  "language_info": {
   "codemirror_mode": {
    "name": "ipython",
    "version": 3
   },
   "file_extension": ".py",
   "mimetype": "text/x-python",
   "name": "python",
   "nbconvert_exporter": "python",
   "pygments_lexer": "ipython3",
   "version": "3.11.4"
  },
  "orig_nbformat": 4
 },
 "nbformat": 4,
 "nbformat_minor": 2
}
