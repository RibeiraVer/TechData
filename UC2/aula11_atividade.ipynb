{
 "cells": [
  {
   "cell_type": "markdown",
   "metadata": {},
   "source": [
    "ATIVIDADE: atualize o resumo estatístico da sua amostra random com:\n",
    "\n",
    "assimetria\n",
    "Curtose é uma medida que mede o GRAU DE CONCENTRAÇÃO dos dados ao redor da MÉDIA. No Pandas, isso é visto pelo método kurtosis() e nos ajuda a ver os \"níveis de curtose\" que indicam a presença ou ausência de outliers."
   ]
  },
  {
   "cell_type": "code",
   "execution_count": 15,
   "metadata": {},
   "outputs": [],
   "source": [
    "import pandas as pd\n",
    "import numpy as np\n",
    "import random"
   ]
  },
  {
   "cell_type": "code",
   "execution_count": 16,
   "metadata": {},
   "outputs": [
    {
     "name": "stdout",
     "output_type": "stream",
     "text": [
      "[35, 13, 49, 54, 71, 32, 78, 2, 84, 5, 76, 97, 21, 76, 47, 58, 2, 31, 69, 33, 71, 91, 73, 39, 65, 80, 7, 73, 17, 86, 51, 69, 29, 86, 49, 63, 51, 47, 90, 93, 67, 69, 68, 5, 49, 25, 30, 25, 3, 87]\n",
      "[35 13 49 54 71 32 78  2 84  5 76 97 21 76 47 58  2 31 69 33 71 91 73 39\n",
      " 65 80  7 73 17 86 51 69 29 86 49 63 51 47 90 93 67 69 68  5 49 25 30 25\n",
      "  3 87]\n"
     ]
    }
   ],
   "source": [
    "amostra=[random.randint(2,99)for _ in range(50)]\n",
    "print(amostra)\n",
    "dados=np.array(amostra)\n",
    "print(dados)"
   ]
  },
  {
   "cell_type": "code",
   "execution_count": 25,
   "metadata": {},
   "outputs": [
    {
     "data": {
      "text/html": [
       "<div>\n",
       "<style scoped>\n",
       "    .dataframe tbody tr th:only-of-type {\n",
       "        vertical-align: middle;\n",
       "    }\n",
       "\n",
       "    .dataframe tbody tr th {\n",
       "        vertical-align: top;\n",
       "    }\n",
       "\n",
       "    .dataframe thead th {\n",
       "        text-align: right;\n",
       "    }\n",
       "</style>\n",
       "<table border=\"1\" class=\"dataframe\">\n",
       "  <thead>\n",
       "    <tr style=\"text-align: right;\">\n",
       "      <th></th>\n",
       "      <th>Salários</th>\n",
       "    </tr>\n",
       "  </thead>\n",
       "  <tbody>\n",
       "    <tr>\n",
       "      <th>0</th>\n",
       "      <td>2500</td>\n",
       "    </tr>\n",
       "    <tr>\n",
       "      <th>1</th>\n",
       "      <td>2700</td>\n",
       "    </tr>\n",
       "    <tr>\n",
       "      <th>2</th>\n",
       "      <td>3200</td>\n",
       "    </tr>\n",
       "    <tr>\n",
       "      <th>3</th>\n",
       "      <td>4000</td>\n",
       "    </tr>\n",
       "    <tr>\n",
       "      <th>4</th>\n",
       "      <td>4500</td>\n",
       "    </tr>\n",
       "    <tr>\n",
       "      <th>5</th>\n",
       "      <td>4800</td>\n",
       "    </tr>\n",
       "    <tr>\n",
       "      <th>6</th>\n",
       "      <td>5000</td>\n",
       "    </tr>\n",
       "    <tr>\n",
       "      <th>7</th>\n",
       "      <td>5200</td>\n",
       "    </tr>\n",
       "    <tr>\n",
       "      <th>8</th>\n",
       "      <td>6000</td>\n",
       "    </tr>\n",
       "    <tr>\n",
       "      <th>9</th>\n",
       "      <td>8000</td>\n",
       "    </tr>\n",
       "    <tr>\n",
       "      <th>10</th>\n",
       "      <td>1500</td>\n",
       "    </tr>\n",
       "  </tbody>\n",
       "</table>\n",
       "</div>"
      ],
      "text/plain": [
       "    Salários\n",
       "0       2500\n",
       "1       2700\n",
       "2       3200\n",
       "3       4000\n",
       "4       4500\n",
       "5       4800\n",
       "6       5000\n",
       "7       5200\n",
       "8       6000\n",
       "9       8000\n",
       "10      1500"
      ]
     },
     "metadata": {},
     "output_type": "display_data"
    }
   ],
   "source": [
    "Salários={'Salários':[2500,2700,3200,4000,4500,4800,5000,5200,6000,8000,1500]}\n",
    "df_Salários=pd.DataFrame(Salários)\n",
    "display(df_Salários)"
   ]
  },
  {
   "cell_type": "code",
   "execution_count": 26,
   "metadata": {},
   "outputs": [
    {
     "name": "stdout",
     "output_type": "stream",
     "text": [
      "assimetria:0.45910726209547076\n",
      "media:4309.090909090909\n",
      "mediana:4500.0\n"
     ]
    }
   ],
   "source": [
    "assimetria=df_Salários['Salários'].skew()\n",
    "media=df_Salários['Salários'].mean()\n",
    "mediana=df_Salários['Salários'].median()\n",
    "\n",
    "print(f'assimetria:{assimetria}')\n",
    "print(f'media:{media}')\n",
    "print(f'mediana:{mediana}')"
   ]
  },
  {
   "cell_type": "code",
   "execution_count": 27,
   "metadata": {},
   "outputs": [
    {
     "name": "stdout",
     "output_type": "stream",
     "text": [
      "curtose:0.4471917415978863\n"
     ]
    }
   ],
   "source": [
    "#calculando a curtose\n",
    "curtose=df_Salários['Salários']. kurtosis()\n",
    "print(f'curtose:{curtose}')\n"
   ]
  },
  {
   "cell_type": "code",
   "execution_count": 28,
   "metadata": {},
   "outputs": [],
   "source": [
    "#interpretação\n",
    "if -0.5 <= assimetria <= 0.5:\n",
    "    resultado=\"distribuição simetrica\"\n",
    "elif assimetica > 0.5:\n",
    "    resultado=\"distribuição assimetrica positiva\"\n",
    "else:\n",
    "    resultado=\"distribuição assimetrica positiva\"\n",
    "    print(resultado)"
   ]
  },
  {
   "cell_type": "code",
   "execution_count": 29,
   "metadata": {},
   "outputs": [
    {
     "data": {
      "image/png": "[encoded data removed]",
      "text/plain": [
       "<Figure size 640x480 with 1 Axes>"
      ]
     },
     "metadata": {},
     "output_type": "display_data"
    }
   ],
   "source": [
    "#Exemplo de Abordagem do Resultado com Boxplot:\n",
    "\n",
    "import matplotlib.pyplot as plt\n",
    "\n",
    "plt.boxplot(df_Salários['Salários'])\n",
    "plt.title('Boxplot dos Salários')\n",
    "plt.ylabel('Salário')\n",
    "plt.show()"
   ]
  }
 ],
 "metadata": {
  "kernelspec": {
   "display_name": "Python 3",
   "language": "python",
   "name": "python3"
  },
  "language_info": {
   "codemirror_mode": {
    "name": "ipython",
    "version": 3
   },
   "file_extension": ".py",
   "mimetype": "text/x-python",
   "name": "python",
   "nbconvert_exporter": "python",
   "pygments_lexer": "ipython3",
   "version": "3.11.4"
  },
  "orig_nbformat": 4
 },
 "nbformat": 4,
 "nbformat_minor": 2
}
